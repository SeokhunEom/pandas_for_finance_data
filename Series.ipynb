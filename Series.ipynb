{
 "cells": [
  {
   "metadata": {},
   "cell_type": "markdown",
   "source": "### Series 만들기",
   "id": "c8ff7875bf282b25"
  },
  {
   "metadata": {
    "ExecuteTime": {
     "end_time": "2024-08-18T00:18:33.701765Z",
     "start_time": "2024-08-18T00:18:33.148301Z"
    }
   },
   "cell_type": "code",
   "source": "import pandas as pd",
   "id": "98db0ec01c79ce1",
   "outputs": [],
   "execution_count": 1
  },
  {
   "metadata": {
    "ExecuteTime": {
     "end_time": "2024-08-18T00:18:34.537158Z",
     "start_time": "2024-08-18T00:18:34.515011Z"
    }
   },
   "cell_type": "code",
   "source": [
    "ls1 = [1,2,3,4,5,6,7,8,9]\n",
    "ls2 = [1,2,3,'Apple','Banana','Cherry',7,8,9]\n",
    "\n",
    "sr1 = pd.Series(ls1)\n",
    "sr2 = pd.Series(ls2)\n",
    "\n",
    "sr2"
   ],
   "id": "7e2bdb43adf8ec5f",
   "outputs": [
    {
     "data": {
      "text/plain": [
       "0         1\n",
       "1         2\n",
       "2         3\n",
       "3     Apple\n",
       "4    Banana\n",
       "5    Cherry\n",
       "6         7\n",
       "7         8\n",
       "8         9\n",
       "dtype: object"
      ]
     },
     "execution_count": 2,
     "metadata": {},
     "output_type": "execute_result"
    }
   ],
   "execution_count": 2
  },
  {
   "metadata": {
    "ExecuteTime": {
     "end_time": "2024-08-18T00:18:34.725810Z",
     "start_time": "2024-08-18T00:18:34.714895Z"
    }
   },
   "cell_type": "code",
   "source": [
    "sr1.name = 'Numbers'\n",
    "sr2.name = 'Word'\n",
    "\n",
    "sr2"
   ],
   "id": "be11adfab52b8267",
   "outputs": [
    {
     "data": {
      "text/plain": [
       "0         1\n",
       "1         2\n",
       "2         3\n",
       "3     Apple\n",
       "4    Banana\n",
       "5    Cherry\n",
       "6         7\n",
       "7         8\n",
       "8         9\n",
       "Name: Word, dtype: object"
      ]
     },
     "execution_count": 3,
     "metadata": {},
     "output_type": "execute_result"
    }
   ],
   "execution_count": 3
  },
  {
   "metadata": {
    "ExecuteTime": {
     "end_time": "2024-08-18T00:18:34.983770Z",
     "start_time": "2024-08-18T00:18:34.977920Z"
    }
   },
   "cell_type": "code",
   "source": [
    "dic1 = {'A':1, 'B':2, 'C':3, 'D':4, 'E':5}\n",
    "\n",
    "sr3 = pd.Series(dic1)\n",
    "sr3.name = 'Alphabets'\n",
    "sr3"
   ],
   "id": "ec2881b8097e0e11",
   "outputs": [
    {
     "data": {
      "text/plain": [
       "A    1\n",
       "B    2\n",
       "C    3\n",
       "D    4\n",
       "E    5\n",
       "Name: Alphabets, dtype: int64"
      ]
     },
     "execution_count": 4,
     "metadata": {},
     "output_type": "execute_result"
    }
   ],
   "execution_count": 4
  },
  {
   "metadata": {},
   "cell_type": "markdown",
   "source": "### CSV 파일을 Series로 불러오기",
   "id": "e141a4ca0009db85"
  },
  {
   "metadata": {
    "ExecuteTime": {
     "end_time": "2024-08-18T00:18:35.155450Z",
     "start_time": "2024-08-18T00:18:35.144982Z"
    }
   },
   "cell_type": "code",
   "source": [
    "samsung_price = pd.read_csv(\"Data/삼성전자 종가.csv\", index_col=0, header = 0).squeeze(\"columns\")\n",
    "samsung_price"
   ],
   "id": "71e067372216eab6",
   "outputs": [
    {
     "data": {
      "text/plain": [
       "Date\n",
       "2018-01-02    51020\n",
       "2018-01-03    51620\n",
       "2018-01-04    51080\n",
       "2018-01-05    52120\n",
       "2018-01-08    52020\n",
       "              ...  \n",
       "2021-12-13    76800\n",
       "2021-12-14    77000\n",
       "2021-12-15    77600\n",
       "2021-12-16    77800\n",
       "2021-12-17    78000\n",
       "Name: Close, Length: 977, dtype: int64"
      ]
     },
     "execution_count": 5,
     "metadata": {},
     "output_type": "execute_result"
    }
   ],
   "execution_count": 5
  },
  {
   "metadata": {},
   "cell_type": "markdown",
   "source": "### Series Index&Value",
   "id": "755de5d2b5297e66"
  },
  {
   "metadata": {
    "ExecuteTime": {
     "end_time": "2024-08-18T00:18:35.392185Z",
     "start_time": "2024-08-18T00:18:35.384956Z"
    }
   },
   "cell_type": "code",
   "source": [
    "samsung_price = pd.read_csv(\"Data/삼성전자 종가.csv\", index_col=0, header = 0).squeeze(\"columns\")\n",
    "samsung_price.index"
   ],
   "id": "e3bcdb29149e5531",
   "outputs": [
    {
     "data": {
      "text/plain": [
       "Index(['2018-01-02', '2018-01-03', '2018-01-04', '2018-01-05', '2018-01-08',\n",
       "       '2018-01-09', '2018-01-10', '2018-01-11', '2018-01-12', '2018-01-15',\n",
       "       ...\n",
       "       '2021-12-06', '2021-12-07', '2021-12-08', '2021-12-09', '2021-12-10',\n",
       "       '2021-12-13', '2021-12-14', '2021-12-15', '2021-12-16', '2021-12-17'],\n",
       "      dtype='object', name='Date', length=977)"
      ]
     },
     "execution_count": 6,
     "metadata": {},
     "output_type": "execute_result"
    }
   ],
   "execution_count": 6
  },
  {
   "metadata": {
    "ExecuteTime": {
     "end_time": "2024-08-18T00:18:35.604906Z",
     "start_time": "2024-08-18T00:18:35.601154Z"
    }
   },
   "cell_type": "code",
   "source": [
    "# 만약 삼성전자 Series에 2020-12-15 Data가 있을까?\n",
    "date = '2020-12-15'\n",
    "\n",
    "if date in samsung_price.index:\n",
    "    print(samsung_price.loc[date])\n",
    "else:\n",
    "    print('No data')"
   ],
   "id": "86e93f00256f3cc2",
   "outputs": [
    {
     "name": "stdout",
     "output_type": "stream",
     "text": [
      "73800\n"
     ]
    }
   ],
   "execution_count": 7
  },
  {
   "metadata": {
    "ExecuteTime": {
     "end_time": "2024-08-18T00:18:35.803712Z",
     "start_time": "2024-08-18T00:18:35.799334Z"
    }
   },
   "cell_type": "code",
   "source": [
    "# 만약 삼성전자 Series에 100번째 Data값은 무엇일까?\n",
    "samsung_price.iloc[100]"
   ],
   "id": "1a64d4639375709c",
   "outputs": [
    {
     "data": {
      "text/plain": [
       "np.int64(49500)"
      ]
     },
     "execution_count": 8,
     "metadata": {},
     "output_type": "execute_result"
    }
   ],
   "execution_count": 8
  },
  {
   "metadata": {},
   "cell_type": "markdown",
   "source": "### Series에 새로운 값을 추가하고 싶다면?",
   "id": "a9937d7cd6feca91"
  },
  {
   "metadata": {
    "ExecuteTime": {
     "end_time": "2024-08-18T00:18:35.966533Z",
     "start_time": "2024-08-18T00:18:35.958777Z"
    }
   },
   "cell_type": "code",
   "source": [
    "# 삼성전자 Series의 총 길이는?\n",
    "samsung_price = pd.read_csv(\"Data/삼성전자 종가.csv\", index_col=0, header = 0).squeeze(\"columns\")\n",
    "samsung_price.shape"
   ],
   "id": "f4c36de5b0f8206c",
   "outputs": [
    {
     "data": {
      "text/plain": [
       "(977,)"
      ]
     },
     "execution_count": 9,
     "metadata": {},
     "output_type": "execute_result"
    }
   ],
   "execution_count": 9
  },
  {
   "metadata": {
    "ExecuteTime": {
     "end_time": "2024-08-18T00:18:36.109148Z",
     "start_time": "2024-08-18T00:18:36.100555Z"
    }
   },
   "cell_type": "code",
   "source": [
    "# 삼성전자 Series에 '2021-12-20'가격을 업데이트 하고 싶다면?\n",
    "samsung_price.loc[\"2021-12-20\"] = 77100\n",
    "samsung_price"
   ],
   "id": "b5954d3d19477a61",
   "outputs": [
    {
     "data": {
      "text/plain": [
       "Date\n",
       "2018-01-02    51020\n",
       "2018-01-03    51620\n",
       "2018-01-04    51080\n",
       "2018-01-05    52120\n",
       "2018-01-08    52020\n",
       "              ...  \n",
       "2021-12-14    77000\n",
       "2021-12-15    77600\n",
       "2021-12-16    77800\n",
       "2021-12-17    78000\n",
       "2021-12-20    77100\n",
       "Name: Close, Length: 978, dtype: int64"
      ]
     },
     "execution_count": 10,
     "metadata": {},
     "output_type": "execute_result"
    }
   ],
   "execution_count": 10
  },
  {
   "metadata": {},
   "cell_type": "markdown",
   "source": "### 두 개의 Series 연결하기",
   "id": "ec71c5805956d336"
  },
  {
   "metadata": {
    "ExecuteTime": {
     "end_time": "2024-08-18T00:18:36.468840Z",
     "start_time": "2024-08-18T00:18:36.214793Z"
    }
   },
   "cell_type": "code",
   "source": [
    "# samsung_excel 파일의 sheet1(2018~2019)와 sheet2(2020~2021)를 연결!\n",
    "series1_samsung = pd.read_excel('Data/samsung_excel.xlsx', sheet_name = 'Sheet1', index_col=0).squeeze(\"columns\")\n",
    "series2_samsung = pd.read_excel('Data/samsung_excel.xlsx', sheet_name = 'Sheet2', index_col=0).squeeze(\"columns\")\n",
    "\n",
    "series_samsung = pd.concat([series1_samsung, series2_samsung], ignore_index=False)\n",
    "series_samsung"
   ],
   "id": "a9e100af3f0068c",
   "outputs": [
    {
     "data": {
      "text/plain": [
       "Date\n",
       "2018-01-02    51020\n",
       "2018-01-03    51620\n",
       "2018-01-04    51080\n",
       "2018-01-05    52120\n",
       "2018-01-08    52020\n",
       "              ...  \n",
       "2021-12-20    77100\n",
       "2021-12-21    78100\n",
       "2021-12-22    79400\n",
       "2021-12-23    79900\n",
       "2021-12-24    80500\n",
       "Name: Close, Length: 982, dtype: int64"
      ]
     },
     "execution_count": 11,
     "metadata": {},
     "output_type": "execute_result"
    }
   ],
   "execution_count": 11
  },
  {
   "metadata": {},
   "cell_type": "markdown",
   "source": "### Series 기본 통계치 구하기",
   "id": "df9a3c322c313561"
  },
  {
   "metadata": {
    "ExecuteTime": {
     "end_time": "2024-08-18T00:18:36.611829Z",
     "start_time": "2024-08-18T00:18:36.599095Z"
    }
   },
   "cell_type": "code",
   "source": [
    "# 삼성전자 Series에 가장 큰 값은?\n",
    "samsung_price = pd.read_csv('Data/삼성전자 종가.csv', index_col=0, header=0).squeeze(\"columns\")\n",
    "samsung_price.max()\n",
    "samsung_price.describe()"
   ],
   "id": "2a094f23cb70ff94",
   "outputs": [
    {
     "data": {
      "text/plain": [
       "count      977.000000\n",
       "mean     57295.854657\n",
       "std      14084.402274\n",
       "min      37450.000000\n",
       "25%      46300.000000\n",
       "50%      51300.000000\n",
       "75%      70200.000000\n",
       "max      91000.000000\n",
       "Name: Close, dtype: float64"
      ]
     },
     "execution_count": 12,
     "metadata": {},
     "output_type": "execute_result"
    }
   ],
   "execution_count": 12
  },
  {
   "metadata": {
    "ExecuteTime": {
     "end_time": "2024-08-18T00:18:36.820926Z",
     "start_time": "2024-08-18T00:18:36.817033Z"
    }
   },
   "cell_type": "code",
   "source": [
    "# 삼성전자 Series에 가장 큰 값의 날짜는?\n",
    "samsung_price.index[samsung_price.values == samsung_price.max()]\n",
    "samsung_price.index[samsung_price.argmax()]"
   ],
   "id": "1439c342efc928f2",
   "outputs": [
    {
     "data": {
      "text/plain": [
       "'2021-01-11'"
      ]
     },
     "execution_count": 13,
     "metadata": {},
     "output_type": "execute_result"
    }
   ],
   "execution_count": 13
  },
  {
   "metadata": {},
   "cell_type": "markdown",
   "source": "### About Numpy 1: Array - Series와 DataFrame에서 다영ㄴ하게 생각했던 연산의 이유",
   "id": "fd69073394ca969"
  },
  {
   "metadata": {
    "ExecuteTime": {
     "end_time": "2024-08-18T00:18:37.052377Z",
     "start_time": "2024-08-18T00:18:37.047898Z"
    }
   },
   "cell_type": "code",
   "source": [
    "import numpy as np\n",
    "\n",
    "ls = [1, 2, 3, 4]\n",
    "ls"
   ],
   "id": "54a60941bcd40758",
   "outputs": [
    {
     "data": {
      "text/plain": [
       "[1, 2, 3, 4]"
      ]
     },
     "execution_count": 14,
     "metadata": {},
     "output_type": "execute_result"
    }
   ],
   "execution_count": 14
  },
  {
   "metadata": {
    "ExecuteTime": {
     "end_time": "2024-08-18T00:18:37.295585Z",
     "start_time": "2024-08-18T00:18:37.289596Z"
    }
   },
   "cell_type": "code",
   "source": [
    "arr = np.array([1, 2, 3, 4])\n",
    "print(arr)\n",
    "print(arr.shape)"
   ],
   "id": "5889342ccec93aa5",
   "outputs": [
    {
     "name": "stdout",
     "output_type": "stream",
     "text": [
      "[1 2 3 4]\n",
      "(4,)\n"
     ]
    }
   ],
   "execution_count": 15
  },
  {
   "metadata": {},
   "cell_type": "markdown",
   "source": "### About Numpy 2: Broadcasting - Series와 DataFrame에서 다양하게 생각했던 연산의 이유",
   "id": "112e4e66cf716ae5"
  },
  {
   "metadata": {
    "ExecuteTime": {
     "end_time": "2024-08-18T00:18:37.420481Z",
     "start_time": "2024-08-18T00:18:37.415155Z"
    }
   },
   "cell_type": "code",
   "source": [
    "arr1 = np.array([[1, 2], [2, 5]])\n",
    "arr1 + 1"
   ],
   "id": "4b69a465873dc147",
   "outputs": [
    {
     "data": {
      "text/plain": [
       "array([[2, 3],\n",
       "       [3, 6]])"
      ]
     },
     "execution_count": 16,
     "metadata": {},
     "output_type": "execute_result"
    }
   ],
   "execution_count": 16
  },
  {
   "metadata": {
    "ExecuteTime": {
     "end_time": "2024-08-18T00:18:37.511448Z",
     "start_time": "2024-08-18T00:18:37.505915Z"
    }
   },
   "cell_type": "code",
   "source": "arr1 * 10",
   "id": "8283c387196dd38d",
   "outputs": [
    {
     "data": {
      "text/plain": [
       "array([[10, 20],\n",
       "       [20, 50]])"
      ]
     },
     "execution_count": 17,
     "metadata": {},
     "output_type": "execute_result"
    }
   ],
   "execution_count": 17
  },
  {
   "metadata": {},
   "cell_type": "markdown",
   "source": "### Series 연산",
   "id": "95ed96b104282da3"
  },
  {
   "metadata": {
    "ExecuteTime": {
     "end_time": "2024-08-18T00:18:37.724267Z",
     "start_time": "2024-08-18T00:18:37.715344Z"
    }
   },
   "cell_type": "code",
   "source": [
    "# 2018년부터 현재까지 삼성전자 수익률중 가장 크게 올랐을때, 얼마나 올랐을까?\n",
    "samsung_price = pd.read_csv('Data/삼성전자 종가.csv', index_col=0, header=0).squeeze(\"columns\")\n",
    "samsung_return = (samsung_price - samsung_price.shift(1))/samsung_price.shift(1)\n",
    "samsung_return"
   ],
   "id": "dfe12b3e6e7ff7c7",
   "outputs": [
    {
     "data": {
      "text/plain": [
       "Date\n",
       "2018-01-02         NaN\n",
       "2018-01-03    0.011760\n",
       "2018-01-04   -0.010461\n",
       "2018-01-05    0.020360\n",
       "2018-01-08   -0.001919\n",
       "                ...   \n",
       "2021-12-13   -0.001300\n",
       "2021-12-14    0.002604\n",
       "2021-12-15    0.007792\n",
       "2021-12-16    0.002577\n",
       "2021-12-17    0.002571\n",
       "Name: Close, Length: 977, dtype: float64"
      ]
     },
     "execution_count": 18,
     "metadata": {},
     "output_type": "execute_result"
    }
   ],
   "execution_count": 18
  },
  {
   "metadata": {
    "ExecuteTime": {
     "end_time": "2024-08-18T00:18:37.893608Z",
     "start_time": "2024-08-18T00:18:37.885784Z"
    }
   },
   "cell_type": "code",
   "source": "samsung_price.pct_change()",
   "id": "5821c87d7626b797",
   "outputs": [
    {
     "data": {
      "text/plain": [
       "Date\n",
       "2018-01-02         NaN\n",
       "2018-01-03    0.011760\n",
       "2018-01-04   -0.010461\n",
       "2018-01-05    0.020360\n",
       "2018-01-08   -0.001919\n",
       "                ...   \n",
       "2021-12-13   -0.001300\n",
       "2021-12-14    0.002604\n",
       "2021-12-15    0.007792\n",
       "2021-12-16    0.002577\n",
       "2021-12-17    0.002571\n",
       "Name: Close, Length: 977, dtype: float64"
      ]
     },
     "execution_count": 19,
     "metadata": {},
     "output_type": "execute_result"
    }
   ],
   "execution_count": 19
  },
  {
   "metadata": {
    "ExecuteTime": {
     "end_time": "2024-08-18T00:18:38.113779Z",
     "start_time": "2024-08-18T00:18:38.106768Z"
    }
   },
   "cell_type": "code",
   "source": "samsung_return.max()",
   "id": "57716ff5806f9f61",
   "outputs": [
    {
     "data": {
      "text/plain": [
       "np.float64(0.10470588235294118)"
      ]
     },
     "execution_count": 20,
     "metadata": {},
     "output_type": "execute_result"
    }
   ],
   "execution_count": 20
  },
  {
   "metadata": {
    "ExecuteTime": {
     "end_time": "2024-08-18T00:18:38.317692Z",
     "start_time": "2024-08-18T00:18:38.312154Z"
    }
   },
   "cell_type": "code",
   "source": "samsung_return.index[samsung_return.argmax()]",
   "id": "eeb02a9701eb8845",
   "outputs": [
    {
     "data": {
      "text/plain": [
       "'2020-03-24'"
      ]
     },
     "execution_count": 21,
     "metadata": {},
     "output_type": "execute_result"
    }
   ],
   "execution_count": 21
  },
  {
   "metadata": {},
   "cell_type": "markdown",
   "source": "### NaN값 처리",
   "id": "60e32fcdf2ebb313"
  },
  {
   "metadata": {
    "ExecuteTime": {
     "end_time": "2024-08-18T00:18:38.507265Z",
     "start_time": "2024-08-18T00:18:38.496932Z"
    }
   },
   "cell_type": "code",
   "source": [
    "samsung_price = pd.read_csv('Data/삼성전자 종가.csv', index_col=0, header=0).squeeze(\"columns\")\n",
    "samsung_return = (samsung_price - samsung_price.shift(1))/samsung_price.shift(1)\n",
    "samsung_return"
   ],
   "id": "1c65c7ba032db134",
   "outputs": [
    {
     "data": {
      "text/plain": [
       "Date\n",
       "2018-01-02         NaN\n",
       "2018-01-03    0.011760\n",
       "2018-01-04   -0.010461\n",
       "2018-01-05    0.020360\n",
       "2018-01-08   -0.001919\n",
       "                ...   \n",
       "2021-12-13   -0.001300\n",
       "2021-12-14    0.002604\n",
       "2021-12-15    0.007792\n",
       "2021-12-16    0.002577\n",
       "2021-12-17    0.002571\n",
       "Name: Close, Length: 977, dtype: float64"
      ]
     },
     "execution_count": 22,
     "metadata": {},
     "output_type": "execute_result"
    }
   ],
   "execution_count": 22
  },
  {
   "metadata": {
    "ExecuteTime": {
     "end_time": "2024-08-18T00:18:38.697060Z",
     "start_time": "2024-08-18T00:18:38.688614Z"
    }
   },
   "cell_type": "code",
   "source": "samsung_return.dropna()",
   "id": "78da66ba990fcd",
   "outputs": [
    {
     "data": {
      "text/plain": [
       "Date\n",
       "2018-01-03    0.011760\n",
       "2018-01-04   -0.010461\n",
       "2018-01-05    0.020360\n",
       "2018-01-08   -0.001919\n",
       "2018-01-09   -0.031142\n",
       "                ...   \n",
       "2021-12-13   -0.001300\n",
       "2021-12-14    0.002604\n",
       "2021-12-15    0.007792\n",
       "2021-12-16    0.002577\n",
       "2021-12-17    0.002571\n",
       "Name: Close, Length: 976, dtype: float64"
      ]
     },
     "execution_count": 23,
     "metadata": {},
     "output_type": "execute_result"
    }
   ],
   "execution_count": 23
  },
  {
   "metadata": {
    "ExecuteTime": {
     "end_time": "2024-08-18T00:18:38.923910Z",
     "start_time": "2024-08-18T00:18:38.919059Z"
    }
   },
   "cell_type": "code",
   "source": "samsung_return.fillna(0)",
   "id": "f3d7b810df854395",
   "outputs": [
    {
     "data": {
      "text/plain": [
       "Date\n",
       "2018-01-02    0.000000\n",
       "2018-01-03    0.011760\n",
       "2018-01-04   -0.010461\n",
       "2018-01-05    0.020360\n",
       "2018-01-08   -0.001919\n",
       "                ...   \n",
       "2021-12-13   -0.001300\n",
       "2021-12-14    0.002604\n",
       "2021-12-15    0.007792\n",
       "2021-12-16    0.002577\n",
       "2021-12-17    0.002571\n",
       "Name: Close, Length: 977, dtype: float64"
      ]
     },
     "execution_count": 24,
     "metadata": {},
     "output_type": "execute_result"
    }
   ],
   "execution_count": 24
  },
  {
   "metadata": {},
   "cell_type": "markdown",
   "source": "### Series 순서대로 나열하기",
   "id": "cd85cd135ecca38e"
  },
  {
   "metadata": {
    "ExecuteTime": {
     "end_time": "2024-08-18T00:18:39.079618Z",
     "start_time": "2024-08-18T00:18:39.072445Z"
    }
   },
   "cell_type": "code",
   "source": [
    "# 삼성전자 Series를 가격이 큰 순서대로 나타내보자. 그럼 어떤 시기에 가격이 가장 높았을까?\n",
    "samsung_price = pd.read_csv('Data/삼성전자 종가.csv', index_col=0, header=0).squeeze(\"columns\")\n",
    "samsung_return = (samsung_price - samsung_price.shift(1))/samsung_price.shift(1)"
   ],
   "id": "3da103bde708271",
   "outputs": [],
   "execution_count": 25
  },
  {
   "metadata": {
    "ExecuteTime": {
     "end_time": "2024-08-18T00:18:39.250042Z",
     "start_time": "2024-08-18T00:18:39.238833Z"
    }
   },
   "cell_type": "code",
   "source": "samsung_price.sort_index(ascending=False)",
   "id": "78e7496d780b9a84",
   "outputs": [
    {
     "data": {
      "text/plain": [
       "Date\n",
       "2021-12-17    78000\n",
       "2021-12-16    77800\n",
       "2021-12-15    77600\n",
       "2021-12-14    77000\n",
       "2021-12-13    76800\n",
       "              ...  \n",
       "2018-01-08    52020\n",
       "2018-01-05    52120\n",
       "2018-01-04    51080\n",
       "2018-01-03    51620\n",
       "2018-01-02    51020\n",
       "Name: Close, Length: 977, dtype: int64"
      ]
     },
     "execution_count": 26,
     "metadata": {},
     "output_type": "execute_result"
    }
   ],
   "execution_count": 26
  },
  {
   "metadata": {
    "ExecuteTime": {
     "end_time": "2024-08-18T00:18:39.518466Z",
     "start_time": "2024-08-18T00:18:39.512128Z"
    }
   },
   "cell_type": "code",
   "source": "samsung_price.sort_values(ascending=False).head(30)",
   "id": "30f423c7ac5242d8",
   "outputs": [
    {
     "data": {
      "text/plain": [
       "Date\n",
       "2021-01-11    91000\n",
       "2021-01-12    90600\n",
       "2021-01-14    89700\n",
       "2021-01-13    89700\n",
       "2021-01-25    89400\n",
       "2021-01-08    88800\n",
       "2021-01-21    88100\n",
       "2021-01-15    88000\n",
       "2021-01-20    87200\n",
       "2021-01-19    87000\n",
       "2021-01-22    86800\n",
       "2021-01-26    86700\n",
       "2021-04-06    86000\n",
       "2021-01-27    85600\n",
       "2021-04-07    85600\n",
       "2021-04-05    85400\n",
       "2021-02-25    85300\n",
       "2021-01-18    85000\n",
       "2021-02-16    84900\n",
       "2021-04-02    84800\n",
       "2021-04-08    84700\n",
       "2021-02-03    84600\n",
       "2021-02-02    84400\n",
       "2021-02-15    84200\n",
       "2021-04-15    84100\n",
       "2021-04-13    84000\n",
       "2021-04-14    84000\n",
       "2021-03-03    84000\n",
       "2021-04-16    83900\n",
       "2021-04-20    83900\n",
       "Name: Close, dtype: int64"
      ]
     },
     "execution_count": 27,
     "metadata": {},
     "output_type": "execute_result"
    }
   ],
   "execution_count": 27
  },
  {
   "metadata": {},
   "cell_type": "markdown",
   "source": "### Series 특정 조건에 맞는 값을 찾고 싶을 때",
   "id": "d01f9ae06c6c2f3e"
  },
  {
   "metadata": {
    "ExecuteTime": {
     "end_time": "2024-08-18T00:18:39.714954Z",
     "start_time": "2024-08-18T00:18:39.705195Z"
    }
   },
   "cell_type": "code",
   "source": [
    "# 삼성전자 Series에서 수익률이 4%이상일때의 빈도수는 어느정도 였을까?\n",
    "samsung_price = pd.read_csv('Data/삼성전자 종가.csv', index_col=0, header=0).squeeze(\"columns\")\n",
    "samsung_return = (samsung_price - samsung_price.shift(1))/samsung_price.shift(1)\n",
    "samsung_return *= 100\n",
    "sum(samsung_return.values >= 4) / len(samsung_return) * 100"
   ],
   "id": "fe8b07d2bd94576f",
   "outputs": [
    {
     "data": {
      "text/plain": [
       "np.float64(1.7400204708290685)"
      ]
     },
     "execution_count": 28,
     "metadata": {},
     "output_type": "execute_result"
    }
   ],
   "execution_count": 28
  },
  {
   "metadata": {
    "ExecuteTime": {
     "end_time": "2024-08-18T00:18:39.828655Z",
     "start_time": "2024-08-18T00:18:39.823231Z"
    }
   },
   "cell_type": "code",
   "source": [
    "# 삼성전자 Series에서 수익률이 4%이상일때 1로, 아닐때 0으로 하는 새로운 Series를 만들어보자.\n",
    "samsung_return_over_4 = pd.Series(np.where(samsung_return.values >= 4, 1, 0), index=samsung_return.index)\n",
    "samsung_return_over_4"
   ],
   "id": "e31ed6c127c0003d",
   "outputs": [
    {
     "data": {
      "text/plain": [
       "Date\n",
       "2018-01-02    0\n",
       "2018-01-03    0\n",
       "2018-01-04    0\n",
       "2018-01-05    0\n",
       "2018-01-08    0\n",
       "             ..\n",
       "2021-12-13    0\n",
       "2021-12-14    0\n",
       "2021-12-15    0\n",
       "2021-12-16    0\n",
       "2021-12-17    0\n",
       "Length: 977, dtype: int64"
      ]
     },
     "execution_count": 29,
     "metadata": {},
     "output_type": "execute_result"
    }
   ],
   "execution_count": 29
  },
  {
   "metadata": {},
   "cell_type": "markdown",
   "source": "### Series Rolling",
   "id": "bebace43eb59f60c"
  },
  {
   "metadata": {
    "ExecuteTime": {
     "end_time": "2024-08-18T00:18:40.050904Z",
     "start_time": "2024-08-18T00:18:40.039986Z"
    }
   },
   "cell_type": "code",
   "source": [
    "# 삼성전자 Series에서 30일 이동평균을 구해보자.\n",
    "samsung_price = pd.read_csv('Data/삼성전자 종가.csv', index_col=0, header=0).squeeze(\"columns\")\n",
    "samsung_price.rolling(window=30).mean()"
   ],
   "id": "b7d873fa3c8238e",
   "outputs": [
    {
     "data": {
      "text/plain": [
       "Date\n",
       "2018-01-02             NaN\n",
       "2018-01-03             NaN\n",
       "2018-01-04             NaN\n",
       "2018-01-05             NaN\n",
       "2018-01-08             NaN\n",
       "                  ...     \n",
       "2021-12-13    73090.000000\n",
       "2021-12-14    73273.333333\n",
       "2021-12-15    73513.333333\n",
       "2021-12-16    73753.333333\n",
       "2021-12-17    74013.333333\n",
       "Name: Close, Length: 977, dtype: float64"
      ]
     },
     "execution_count": 30,
     "metadata": {},
     "output_type": "execute_result"
    }
   ],
   "execution_count": 30
  },
  {
   "metadata": {},
   "cell_type": "markdown",
   "source": "### Series 구간 나누기",
   "id": "4d6e10ad321a27d3"
  },
  {
   "metadata": {
    "ExecuteTime": {
     "end_time": "2024-08-18T00:18:40.198706Z",
     "start_time": "2024-08-18T00:18:40.186794Z"
    }
   },
   "cell_type": "code",
   "source": [
    "# 삼성전자 Series의 수익률 구간을 구해보자(10등분)\n",
    "samsung_return = (samsung_price - samsung_price.shift(1))/samsung_price.shift(1) * 100\n",
    "pd.cut(samsung_return, bins=10).value_counts()"
   ],
   "id": "29188b7a87c3a090",
   "outputs": [
    {
     "data": {
      "text/plain": [
       "Close\n",
       "(-1.33, 0.356]      414\n",
       "(0.356, 2.041]      298\n",
       "(-3.016, -1.33]     137\n",
       "(2.041, 3.727]       70\n",
       "(-4.702, -3.016]     31\n",
       "(3.727, 5.413]       19\n",
       "(-6.405, -4.702]      3\n",
       "(5.413, 7.099]        2\n",
       "(7.099, 8.785]        1\n",
       "(8.785, 10.471]       1\n",
       "Name: count, dtype: int64"
      ]
     },
     "execution_count": 31,
     "metadata": {},
     "output_type": "execute_result"
    }
   ],
   "execution_count": 31
  },
  {
   "metadata": {
    "ExecuteTime": {
     "end_time": "2024-08-18T00:18:40.454157Z",
     "start_time": "2024-08-18T00:18:40.443848Z"
    }
   },
   "cell_type": "code",
   "source": "pd.qcut(samsung_return, q=10).value_counts()",
   "id": "eeb76bb379998d6e",
   "outputs": [
    {
     "data": {
      "text/plain": [
       "Close\n",
       "(-0.332, 0.0]       108\n",
       "(-6.389, -1.938]     98\n",
       "(-1.938, -1.161]     98\n",
       "(-0.702, -0.332]     98\n",
       "(0.753, 1.22]        98\n",
       "(2.003, 10.471]      98\n",
       "(-1.161, -0.702]     97\n",
       "(0.358, 0.753]       97\n",
       "(1.22, 2.003]        97\n",
       "(0.0, 0.358]         87\n",
       "Name: count, dtype: int64"
      ]
     },
     "execution_count": 32,
     "metadata": {},
     "output_type": "execute_result"
    }
   ],
   "execution_count": 32
  },
  {
   "metadata": {},
   "cell_type": "markdown",
   "source": "### 서로 다른 길이의 두 개의 Series 연산",
   "id": "b88d3149788cbe2f"
  },
  {
   "metadata": {
    "ExecuteTime": {
     "end_time": "2024-08-18T00:21:52.251568Z",
     "start_time": "2024-08-18T00:21:52.239071Z"
    }
   },
   "cell_type": "code",
   "source": [
    "# 삼성전자 Series와 Kospi의 상관관계를 구해보자.\n",
    "samsung_price = pd.read_csv('Data/삼성전자 종가.csv', index_col=0, header=0).squeeze(\"columns\")\n",
    "kospi = pd.read_csv('Data/KOSPI.csv', index_col=0, header=0).squeeze(\"columns\")\n",
    "print(samsung_price.shape)\n",
    "print(kospi.shape)"
   ],
   "id": "eb868db4b45174db",
   "outputs": [
    {
     "name": "stdout",
     "output_type": "stream",
     "text": [
      "(977,)\n",
      "(477,)\n"
     ]
    }
   ],
   "execution_count": 33
  },
  {
   "metadata": {
    "ExecuteTime": {
     "end_time": "2024-08-18T00:22:45.757541Z",
     "start_time": "2024-08-18T00:22:45.751710Z"
    }
   },
   "cell_type": "code",
   "source": [
    "samsung_price = samsung_price.loc['2020-01-02':]\n",
    "samsung_price.shape"
   ],
   "id": "49ecbaa324c7b84b",
   "outputs": [
    {
     "data": {
      "text/plain": [
       "(487,)"
      ]
     },
     "execution_count": 34,
     "metadata": {},
     "output_type": "execute_result"
    }
   ],
   "execution_count": 34
  },
  {
   "metadata": {
    "ExecuteTime": {
     "end_time": "2024-08-18T00:23:57.688061Z",
     "start_time": "2024-08-18T00:23:57.683566Z"
    }
   },
   "cell_type": "code",
   "source": [
    "samsung_re = samsung_price.loc[kospi.index]\n",
    "samsung_re.shape"
   ],
   "id": "488b5109977d8974",
   "outputs": [
    {
     "data": {
      "text/plain": [
       "(477,)"
      ]
     },
     "execution_count": 36,
     "metadata": {},
     "output_type": "execute_result"
    }
   ],
   "execution_count": 36
  },
  {
   "metadata": {
    "ExecuteTime": {
     "end_time": "2024-08-18T00:24:05.368949Z",
     "start_time": "2024-08-18T00:24:05.360608Z"
    }
   },
   "cell_type": "code",
   "source": "samsung_re.corr(kospi)",
   "id": "6932685186335805",
   "outputs": [
    {
     "data": {
      "text/plain": [
       "np.float64(0.9583971132808289)"
      ]
     },
     "execution_count": 37,
     "metadata": {},
     "output_type": "execute_result"
    }
   ],
   "execution_count": 37
  },
  {
   "metadata": {
    "ExecuteTime": {
     "end_time": "2024-08-18T00:24:33.669002Z",
     "start_time": "2024-08-18T00:24:33.661003Z"
    }
   },
   "cell_type": "code",
   "source": "samsung_price.corr(kospi)",
   "id": "de53c5757b898670",
   "outputs": [
    {
     "data": {
      "text/plain": [
       "np.float64(0.9583971132808289)"
      ]
     },
     "execution_count": 38,
     "metadata": {},
     "output_type": "execute_result"
    }
   ],
   "execution_count": 38
  },
  {
   "metadata": {
    "ExecuteTime": {
     "end_time": "2024-08-18T00:25:40.832903Z",
     "start_time": "2024-08-18T00:25:40.823414Z"
    }
   },
   "cell_type": "code",
   "source": [
    "np.corrcoef(samsung_re, kospi)\n",
    "# np.corrcoef(samsung_price, kospi)"
   ],
   "id": "92d62eb93fc1c99e",
   "outputs": [
    {
     "data": {
      "text/plain": [
       "array([[1.        , 0.95839711],\n",
       "       [0.95839711, 1.        ]])"
      ]
     },
     "execution_count": 41,
     "metadata": {},
     "output_type": "execute_result"
    }
   ],
   "execution_count": 41
  },
  {
   "metadata": {
    "ExecuteTime": {
     "end_time": "2024-08-18T00:27:01.298086Z",
     "start_time": "2024-08-18T00:27:01.293376Z"
    }
   },
   "cell_type": "code",
   "source": [
    "kospi.loc['2021-12-18'] = 2986.45\n",
    "kospi.tail()"
   ],
   "id": "f291385379940065",
   "outputs": [
    {
     "data": {
      "text/plain": [
       "Date\n",
       "2021-12-14    2987.95\n",
       "2021-12-15    2989.39\n",
       "2021-12-16    3006.41\n",
       "2021-12-17    3017.73\n",
       "2021-12-18    2986.45\n",
       "Name: Close, dtype: float64"
      ]
     },
     "execution_count": 43,
     "metadata": {},
     "output_type": "execute_result"
    }
   ],
   "execution_count": 43
  },
  {
   "metadata": {
    "ExecuteTime": {
     "end_time": "2024-08-18T00:30:32.414429Z",
     "start_time": "2024-08-18T00:30:32.409261Z"
    }
   },
   "cell_type": "code",
   "source": [
    "expanded_index = samsung_price.index.union(kospi.index)\n",
    "samsung_price_expanded = samsung_price.reindex(expanded_index)\n",
    "kospi_expanded = kospi.reindex(expanded_index)\n",
    "samsung_price_expanded.corr(kospi_expanded)"
   ],
   "id": "83697b354c5246a",
   "outputs": [
    {
     "data": {
      "text/plain": [
       "np.float64(0.9583971132808289)"
      ]
     },
     "execution_count": 44,
     "metadata": {},
     "output_type": "execute_result"
    }
   ],
   "execution_count": 44
  },
  {
   "metadata": {},
   "cell_type": "markdown",
   "source": "### Series 마무리",
   "id": "153c08dc48b630c6"
  }
 ],
 "metadata": {
  "kernelspec": {
   "display_name": "Python 3",
   "language": "python",
   "name": "python3"
  },
  "language_info": {
   "codemirror_mode": {
    "name": "ipython",
    "version": 2
   },
   "file_extension": ".py",
   "mimetype": "text/x-python",
   "name": "python",
   "nbconvert_exporter": "python",
   "pygments_lexer": "ipython2",
   "version": "2.7.6"
  }
 },
 "nbformat": 4,
 "nbformat_minor": 5
}
